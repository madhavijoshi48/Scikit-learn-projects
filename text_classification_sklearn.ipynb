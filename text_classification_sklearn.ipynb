{
 "cells": [
  {
   "cell_type": "code",
   "execution_count": 13,
   "metadata": {},
   "outputs": [
    {
     "name": "stdout",
     "output_type": "stream",
     "text": [
      "The accuracy of this algoritham is 0.8664583333333333\n"
     ]
    }
   ],
   "source": [
    "#importing pandas module for read the csv file\n",
    "#head print first 20 records\n",
    "#tail print last 20 records\n",
    "import pandas\n",
    "data = pandas.read_csv(\"dataset.csv\")\n",
    "# print(data)\n",
    "# data.head(20)\n",
    "# data.tail(20)\n",
    "#to convert the string into lower case\n",
    "import string\n",
    "def lower_word(s):\n",
    "    s=s.lower()\n",
    "    return s\n",
    "data['Text']= [lower_word(s) for s in data['headline']]\n",
    "\n",
    "#here we are taking the headlies from the data set and pass it to function function will convert \n",
    "# the headlines into lower case string and return it and than we stored it into data[text]\n",
    "# print(data['Text'])\n",
    "\n",
    "#For feature extraction from data(headlines) we import CountVectorizer\n",
    "\n",
    "from sklearn.feature_extraction.text import CountVectorizer\n",
    "vectorizer = CountVectorizer()\n",
    "x=vectorizer.fit_transform(data['Text'])\n",
    "# print(x)\n",
    "feature_names = vectorizer.get_feature_names()\n",
    "# print(feature_names)\n",
    "# print(x)\n",
    "\n",
    "#For feature extraction from data(label) we import LabelEncoder\n",
    "\n",
    "from sklearn.preprocessing import LabelEncoder\n",
    "encoder = LabelEncoder()\n",
    "y = encoder.fit_transform(data['label'])\n",
    "l_name = encoder.classes_\n",
    "# print(l_name)\n",
    "# print(y)\n",
    "\n",
    "\n",
    "#now we are split data for training and tesing\n",
    "from sklearn.model_selection import train_test_split\n",
    "train,test,train_label,test_label = train_test_split(x,y,test_size=0.2)\n",
    "\n",
    "#now we are using naive bayes algorithm for training the datasets\n",
    "from sklearn.naive_bayes import MultinomialNB\n",
    "\n",
    "gb = MultinomialNB()\n",
    "final = gb.fit(train,train_label)\n",
    "# print(final)\n",
    "\n",
    "predict = gb.predict(test)\n",
    "# print(predict)\n",
    "\n",
    "# from sklearn.naive_bayes import GaussianNB\n",
    "# gb = GaussianNB()\n",
    "# final = gb.fit(train,train_label)\n",
    "# print(final)\n",
    "# prediction = gb.predict(test)\n",
    "# print(prediction)\n",
    "\n",
    "#let's check accuracy of this algoritham\n",
    "from sklearn.metrics import accuracy_score\n",
    "print(\"The accuracy of this algoritham is\",accuracy_score(predict,test_label))"
   ]
  },
  {
   "cell_type": "markdown",
   "metadata": {},
   "source": [
    "- BernoulliNB- when labels are o and 1 interms of binary format\n",
    "- MultinomialNB - when thir are multiple labels for example[1,2,3,4]\n",
    "                So it can be used anywhere\n",
    "                (for words, we use occurence of words as features)\n",
    "- GaussianNB - when features are continuous (like, in iris dataset)\n",
    "            So can't be used for text classification (because we cant represent features here in terms of their occurences)"
   ]
  },
  {
   "cell_type": "markdown",
   "metadata": {},
   "source": []
  },
  {
   "cell_type": "code",
   "execution_count": null,
   "metadata": {},
   "outputs": [],
   "source": []
  }
 ],
 "metadata": {
  "kernelspec": {
   "display_name": "Python 3",
   "language": "python",
   "name": "python3"
  },
  "language_info": {
   "codemirror_mode": {
    "name": "ipython",
    "version": 3
   },
   "file_extension": ".py",
   "mimetype": "text/x-python",
   "name": "python",
   "nbconvert_exporter": "python",
   "pygments_lexer": "ipython3",
   "version": "3.7.0b4"
  }
 },
 "nbformat": 4,
 "nbformat_minor": 2
}
