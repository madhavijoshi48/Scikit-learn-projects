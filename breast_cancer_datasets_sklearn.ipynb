{
 "cells": [
  {
   "cell_type": "code",
   "execution_count": 5,
   "metadata": {},
   "outputs": [
    {
     "name": "stdout",
     "output_type": "stream",
     "text": [
      "GaussianNB(priors=None, var_smoothing=1e-09)\n",
      "[1 0 0 0 0 0 0 1 0 0 1 0 0 1 1 1 1 0 1 1 1 1 1 1 0 1 0 0 0 0 0 1 1 1 1 1 1\n",
      " 1 0 1 0 0 0 0 1 1 0 1 0 0 1 0 1 1 1 0 1 0 1 1 0 1 1 1 1 1 1 1 0 1 1 1 1 1\n",
      " 1 1 1 0 1 1 1 0 1 1 1 0 0 1 1 0 1 1 1 1 1 1 1 1 1 1 1 1 0 1 1 1 0 0 0 1 1\n",
      " 0 1 1]\n",
      "The accuracy of this datasets is 0.9298245614035088\n"
     ]
    }
   ],
   "source": [
    "#importing sklearn module\n",
    "import sklearn\n",
    "#importing datasets\n",
    "from sklearn.datasets import load_breast_cancer\n",
    "\n",
    "#loadind datasets\n",
    "\n",
    "data = load_breast_cancer()\n",
    "\n",
    "#label_name = The meaning of label(headlines name)\n",
    "#label = the classification label means how many labels\n",
    "#feature_name = The meaning of training data (means name of headlines training set)\n",
    "#feature = The data from which we will learn\n",
    "label_name = data['target_names']\n",
    "label = data['target']\n",
    "feature_name = data['feature_names']\n",
    "feature = data['data']\n",
    "\n",
    "# print(label_name)\n",
    "# print(label)\n",
    "# print(feature_name)\n",
    "# print(feature)\n",
    "\n",
    "# 0 represent malignant\n",
    "# 1 represent benign\n",
    "\n",
    "# sklearn provides the module train_test_split which is used to split the data into training and \n",
    "# tesing set\n",
    "\n",
    "from sklearn.model_selection import train_test_split\n",
    "#here size = 0.2 means this data will be testing while remaining will be training\n",
    "\n",
    "train,test,train_labels,test_labels = train_test_split(feature,label, test_size=0.2)\n",
    "\n",
    "#For classifing we use lots of classifier algorithm we use naive bayes algorithm\n",
    "#importing naive bayes algorithm and it's function GaussianNB\n",
    "# we can also use BinomialNB\n",
    "\n",
    "from sklearn.naive_bayes import GaussianNB\n",
    "\n",
    "gb = GaussianNB()\n",
    "\n",
    "#now we are training the data using fit method which is used to set training and tesing datasets\n",
    "\n",
    "final = gb.fit(train,train_labels)\n",
    "print(final)\n",
    "\n",
    "#after training datasets we use training set to predict testing set using .predict()\n",
    "# predict method will return array of prediction value of datasets of tesing sets\n",
    "prediction = gb.predict(test)\n",
    "\n",
    "print(prediction)\n",
    "#now we are compairing predicats class label and actual class labels of tesing sets using \n",
    "#accuracy_score\n",
    "\n",
    "from sklearn.metrics import accuracy_score\n",
    "\n",
    "print(\"The accuracy of this datasets is\",accuracy_score(test_labels,prediction))\n",
    "\n"
   ]
  },
  {
   "cell_type": "code",
   "execution_count": null,
   "metadata": {},
   "outputs": [],
   "source": []
  }
 ],
 "metadata": {
  "kernelspec": {
   "display_name": "Python 3",
   "language": "python",
   "name": "python3"
  },
  "language_info": {
   "codemirror_mode": {
    "name": "ipython",
    "version": 3
   },
   "file_extension": ".py",
   "mimetype": "text/x-python",
   "name": "python",
   "nbconvert_exporter": "python",
   "pygments_lexer": "ipython3",
   "version": "3.7.0b4"
  }
 },
 "nbformat": 4,
 "nbformat_minor": 2
}
