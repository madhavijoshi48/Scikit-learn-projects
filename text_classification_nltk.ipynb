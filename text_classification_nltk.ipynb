{
 "cells": [
  {
   "cell_type": "code",
   "execution_count": 9,
   "metadata": {},
   "outputs": [
    {
     "name": "stdout",
     "output_type": "stream",
     "text": [
      "Naive Bayes: 73.29070339399901\n"
     ]
    }
   ],
   "source": [
    "import csv\n",
    "import random\n",
    "import nltk\n",
    "from nltk.tokenize import word_tokenize\n",
    "from nltk.corpus import stopwords\n",
    "\n",
    "\n",
    "labels = []\n",
    "headlines = []\n",
    "loweredHeadlines = []\n",
    "tokenizedHeadlines = []\n",
    "filteredHeadlines = []\n",
    "all_words = []\n",
    "documents = []\n",
    "\n",
    "manualStopWords = ['(', ')','#',',',';',\"'s\",'?']\n",
    "\n",
    "stop_words = (stopwords.words('english'))\n",
    "for m in manualStopWords:\n",
    "    stop_words.append(m)\n",
    "# print(stop_words)\n",
    "\n",
    "with open('datasetNew.csv') as file:\n",
    "    reader = csv.DictReader(file)\n",
    "    for row in reader:\n",
    "        labels.append(row['label'])\n",
    "        headlines.append(row['headline']) \n",
    "        \n",
    "\n",
    "# print(labels)        \n",
    "# print(headlines)\n",
    "\n",
    "# Lower case headlines\n",
    "for h in headlines:\n",
    "    loweredHeadlines.append(h.lower())\n",
    "# print(loweredHeadlines)\n",
    "\n",
    "# Tokenize lower-cased headlines and remove stop words\n",
    "for low in loweredHeadlines:\n",
    "    words = []\n",
    "    filtered_words = []\n",
    "    words = word_tokenize(low)\n",
    "    for w in words: \n",
    "        if w not in stop_words:\n",
    "            filtered_words.append(w)\n",
    "            all_words.append(w)\n",
    "    tokenizedHeadlines.append(filtered_words)\n",
    "    \n",
    "i=0\n",
    "l=len(headlines)\n",
    "while(i<l):\n",
    "    documents.append((tokenizedHeadlines[i],labels[i]))\n",
    "    i=i+1\n",
    "# print(documents)\n",
    "    \n",
    "all_words = nltk.FreqDist(all_words)     \n",
    "\n",
    "# print(all_words.most_common(20))\n",
    "# print(tokenizedHeadlines)\n",
    "word_feature = list(all_words.keys())[:5000]\n",
    "# print(word_feature)\n",
    "\n",
    "# print(all_words)\n",
    "def find_features(document):\n",
    "    words=set(document)\n",
    "    features = {}\n",
    "    for w in word_feature:\n",
    "        features[w]=(w in words)\n",
    "    \n",
    "    return features\n",
    "\n",
    "featuresets = [(find_features(headlines),labels) for (headlines,labels) in documents]\n",
    "# print(featuresets)\n",
    "training_set = featuresets[:6000]\n",
    "testing_set = featuresets[6000:]\n",
    "# print(training_set)\n",
    "# print(testing_set)\n",
    "import nltk\n",
    "\n",
    "classifier = nltk.NaiveBayesClassifier.train(training_set)\n",
    "\n",
    "print(\"Naive Bayes:\",(nltk.classify.accuracy(classifier,testing_set))*100)\n",
    "\n",
    "\n"
   ]
  },
  {
   "cell_type": "code",
   "execution_count": null,
   "metadata": {},
   "outputs": [],
   "source": []
  },
  {
   "cell_type": "code",
   "execution_count": null,
   "metadata": {},
   "outputs": [],
   "source": []
  },
  {
   "cell_type": "code",
   "execution_count": null,
   "metadata": {},
   "outputs": [],
   "source": []
  }
 ],
 "metadata": {
  "kernelspec": {
   "display_name": "Python 3",
   "language": "python",
   "name": "python3"
  },
  "language_info": {
   "codemirror_mode": {
    "name": "ipython",
    "version": 3
   },
   "file_extension": ".py",
   "mimetype": "text/x-python",
   "name": "python",
   "nbconvert_exporter": "python",
   "pygments_lexer": "ipython3",
   "version": "3.7.0b4"
  }
 },
 "nbformat": 4,
 "nbformat_minor": 2
}
