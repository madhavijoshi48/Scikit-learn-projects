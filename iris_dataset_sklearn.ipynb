{
 "cells": [
  {
   "cell_type": "code",
   "execution_count": 36,
   "metadata": {},
   "outputs": [
    {
     "name": "stdout",
     "output_type": "stream",
     "text": [
      "The accuracy of this dataset is 0.9333333333333333\n"
     ]
    }
   ],
   "source": [
    "import sklearn\n",
    "from sklearn.datasets import load_iris\n",
    "data=load_iris()\n",
    "# print(data)\n",
    "\n",
    "label_name = data['target_names']\n",
    "label = data['target']\n",
    "feature_name = data['feature_names']\n",
    "feature = data['data']\n",
    "\n",
    "# print(label_name)\n",
    "# print(label)\n",
    "# print(feature_name)\n",
    "# print(feature)\n",
    "\n",
    "from sklearn.model_selection import train_test_split\n",
    "\n",
    "train,test,train_label,test_label = train_test_split(feature,label,test_size=0.2)\n",
    "\n",
    "from sklearn.naive_bayes import GaussianNB\n",
    "\n",
    "gb = GaussianNB()\n",
    "\n",
    "final = gb.fit(train,train_label)\n",
    "\n",
    "prediction = gb.predict(test) \n",
    "\n",
    "# print(prediction)\n",
    "\n",
    "from sklearn.metrics import accuracy_score\n",
    "\n",
    "print(\"The accuracy of this dataset is\",accuracy_score(test_label,prediction))"
   ]
  },
  {
   "cell_type": "code",
   "execution_count": null,
   "metadata": {},
   "outputs": [],
   "source": []
  },
  {
   "cell_type": "code",
   "execution_count": null,
   "metadata": {},
   "outputs": [],
   "source": []
  }
 ],
 "metadata": {
  "kernelspec": {
   "display_name": "Python 3",
   "language": "python",
   "name": "python3"
  },
  "language_info": {
   "codemirror_mode": {
    "name": "ipython",
    "version": 3
   },
   "file_extension": ".py",
   "mimetype": "text/x-python",
   "name": "python",
   "nbconvert_exporter": "python",
   "pygments_lexer": "ipython3",
   "version": "3.7.0b4"
  }
 },
 "nbformat": 4,
 "nbformat_minor": 2
}
