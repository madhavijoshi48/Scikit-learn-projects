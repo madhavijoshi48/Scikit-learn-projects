{
 "cells": [
  {
   "cell_type": "code",
   "execution_count": 20,
   "metadata": {},
   "outputs": [
    {
     "name": "stdout",
     "output_type": "stream",
     "text": [
      "male\n",
      "72.54509018036072\n"
     ]
    }
   ],
   "source": [
    "# importing package\n",
    "\n",
    "import nltk\n",
    "import random\n",
    "from nltk.corpus import names\n",
    "\n",
    "\n",
    "\n",
    "def gender_find(word):\n",
    "    return({'last_word of name': word[-1]})\n",
    "gender_find('Madhavi')\n",
    "gender_find(\"keval\")\n",
    "\n",
    "labels = ([(name,'male') for name in names.words(\"male.txt\")] +\n",
    "         [(name,'female') for name in names.words(\"female.txt\")])\n",
    "random.shuffle(labels)\n",
    "# print(labels[6])\n",
    "\n",
    "\n",
    "featuresets = [(gender_find(n),gender) for (n,gender) in labels]\n",
    "# print(featuresets)\n",
    "training_set = featuresets[1:500]\n",
    "testing_set = featuresets[501:1000]\n",
    "# print(\"The training data sets are\")\n",
    "# print(training_set)\n",
    "# print(\"The testing dataset are\")\n",
    "# print(testing_set)\n",
    "\n",
    "classifier = nltk.NaiveBayesClassifier.train(training_set)\n",
    "classifier.classify(gender_find(\"Keval\"))\n",
    "n = classifier.classify(gender_find(\"David\"))\n",
    "print(n)\n",
    "\n",
    "print(nltk.classify.accuracy(classifier,testing_set)*100)\n"
   ]
  },
  {
   "cell_type": "code",
   "execution_count": null,
   "metadata": {},
   "outputs": [],
   "source": []
  },
  {
   "cell_type": "code",
   "execution_count": null,
   "metadata": {},
   "outputs": [],
   "source": []
  }
 ],
 "metadata": {
  "kernelspec": {
   "display_name": "Python 3",
   "language": "python",
   "name": "python3"
  },
  "language_info": {
   "codemirror_mode": {
    "name": "ipython",
    "version": 3
   },
   "file_extension": ".py",
   "mimetype": "text/x-python",
   "name": "python",
   "nbconvert_exporter": "python",
   "pygments_lexer": "ipython3",
   "version": "3.7.0b4"
  }
 },
 "nbformat": 4,
 "nbformat_minor": 2
}
